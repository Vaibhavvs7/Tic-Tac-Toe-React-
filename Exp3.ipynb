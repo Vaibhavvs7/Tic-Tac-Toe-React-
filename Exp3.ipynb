{
  "nbformat": 4,
  "nbformat_minor": 0,
  "metadata": {
    "colab": {
      "provenance": [],
      "authorship_tag": "ABX9TyOa0VhgzBS/3Hbba0ZVB8dJ",
      "include_colab_link": true
    },
    "kernelspec": {
      "name": "python3",
      "display_name": "Python 3"
    },
    "language_info": {
      "name": "python"
    }
  },
  "cells": [
    {
      "cell_type": "markdown",
      "metadata": {
        "id": "view-in-github",
        "colab_type": "text"
      },
      "source": [
        "<a href=\"https://colab.research.google.com/github/Vaibhavvs7/Tic-Tac-Toe-React-/blob/main/Exp3.ipynb\" target=\"_parent\"><img src=\"https://colab.research.google.com/assets/colab-badge.svg\" alt=\"Open In Colab\"/></a>"
      ]
    },
    {
      "cell_type": "code",
      "execution_count": null,
      "metadata": {
        "id": "2NL3cvETUe8E"
      },
      "outputs": [],
      "source": [
        "import pandas as pd\n",
        "import nltk\n",
        "from nltk.tokenize import word_tokenize\n",
        "from nltk.corpus import stopwords, wordnet\n",
        "from nltk.stem import PorterStemmer, WordNetLemmatizer\n",
        "import json"
      ]
    },
    {
      "cell_type": "code",
      "source": [
        "nltk.download('punkt')\n",
        "nltk.download('stopwords')\n",
        "nltk.download('wordnet')\n",
        "nltk.download('omw-1.4')\n",
        "nltk.download('punkt_tab')"
      ],
      "metadata": {
        "colab": {
          "base_uri": "https://localhost:8080/"
        },
        "id": "yUVzwjEhUiix",
        "outputId": "1c335f2a-b159-4f53-c7e2-55b94405ef70"
      },
      "execution_count": null,
      "outputs": [
        {
          "output_type": "stream",
          "name": "stderr",
          "text": [
            "[nltk_data] Downloading package punkt to /root/nltk_data...\n",
            "[nltk_data]   Package punkt is already up-to-date!\n",
            "[nltk_data] Downloading package stopwords to /root/nltk_data...\n",
            "[nltk_data]   Package stopwords is already up-to-date!\n",
            "[nltk_data] Downloading package wordnet to /root/nltk_data...\n",
            "[nltk_data]   Package wordnet is already up-to-date!\n",
            "[nltk_data] Downloading package omw-1.4 to /root/nltk_data...\n",
            "[nltk_data]   Package omw-1.4 is already up-to-date!\n",
            "[nltk_data] Downloading package punkt_tab to /root/nltk_data...\n",
            "[nltk_data]   Package punkt_tab is already up-to-date!\n"
          ]
        },
        {
          "output_type": "execute_result",
          "data": {
            "text/plain": [
              "True"
            ]
          },
          "metadata": {},
          "execution_count": 5
        }
      ]
    },
    {
      "cell_type": "code",
      "source": [
        "# Load CSV\n",
        "df = pd.read_csv(\"poem.csv\")"
      ],
      "metadata": {
        "id": "d9clo6A-UuTo"
      },
      "execution_count": null,
      "outputs": []
    },
    {
      "cell_type": "code",
      "source": [
        "# 1. Tokenization and Stopword Removal\n",
        "def tokenize_text(text):\n",
        "    tokens = word_tokenize(text.lower())\n",
        "    tokens = [word for word in tokens if word.isalpha()]  # Remove punctuation\n",
        "    return tokens"
      ],
      "metadata": {
        "id": "6QqG6PnmVPsI"
      },
      "execution_count": null,
      "outputs": []
    },
    {
      "cell_type": "code",
      "source": [
        "stop_words = set(stopwords.words('english'))"
      ],
      "metadata": {
        "id": "wo5NGivYVkoX"
      },
      "execution_count": null,
      "outputs": []
    },
    {
      "cell_type": "code",
      "source": [
        "def remove_stopwords(tokens):\n",
        "    return [word for word in tokens if word not in stop_words]"
      ],
      "metadata": {
        "id": "YmFhcUZCVpjQ"
      },
      "execution_count": null,
      "outputs": []
    },
    {
      "cell_type": "code",
      "source": [
        "df[\"tokenized\"] = df[\"Poem\"].apply(tokenize_text)\n",
        "df[\"no_stopwords\"] = df[\"tokenized\"].apply(remove_stopwords)"
      ],
      "metadata": {
        "id": "S_EXNNmMVr44"
      },
      "execution_count": null,
      "outputs": []
    },
    {
      "cell_type": "code",
      "source": [
        "# 2. Stemming\n",
        "stemmer = PorterStemmer()\n",
        "\n",
        "def stem_words(tokens):\n",
        "    return [stemmer.stem(word) for word in tokens]\n",
        "\n",
        "df[\"stemmed\"] = df[\"no_stopwords\"].apply(stem_words)"
      ],
      "metadata": {
        "id": "zPqeMfGXVt04"
      },
      "execution_count": null,
      "outputs": []
    },
    {
      "cell_type": "code",
      "source": [
        "# 3. Lemmatization\n",
        "lemmatizer = WordNetLemmatizer()\n",
        "\n",
        "def lemmatize_words(tokens):\n",
        "    return [lemmatizer.lemmatize(word) for word in tokens]\n",
        "\n",
        "df[\"lemmatized\"] = df[\"no_stopwords\"].apply(lemmatize_words)"
      ],
      "metadata": {
        "id": "RDMRXsl5WBqG"
      },
      "execution_count": null,
      "outputs": []
    },
    {
      "cell_type": "code",
      "source": [
        "# 4. Optional: Convert lists to JSON strings for saving\n",
        "df[\"tokenized\"] = df[\"tokenized\"].apply(json.dumps)\n",
        "df[\"no_stopwords\"] = df[\"no_stopwords\"].apply(json.dumps)\n",
        "df[\"stemmed\"] = df[\"stemmed\"].apply(json.dumps)\n",
        "df[\"lemmatized\"] = df[\"lemmatized\"].apply(json.dumps)\n"
      ],
      "metadata": {
        "id": "YTw-XigxWQJX"
      },
      "execution_count": null,
      "outputs": []
    },
    {
      "cell_type": "code",
      "source": [
        "# 5. Save final output\n",
        "final_df = df[[\"Poem\", \"tokenized\", \"no_stopwords\", \"stemmed\", \"lemmatized\"]]\n",
        "final_df.to_csv(\"poem_proc_final.csv\", index=False)\n"
      ],
      "metadata": {
        "id": "RuloX7MrWxxP"
      },
      "execution_count": null,
      "outputs": []
    },
    {
      "cell_type": "code",
      "source": [
        "# Show a nicely formatted table in Colab\n",
        "df[[\"Poem\", \"no_stopwords\", \"stemmed\", \"lemmatized\"]].head(10)\n"
      ],
      "metadata": {
        "colab": {
          "base_uri": "https://localhost:8080/",
          "height": 536
        },
        "id": "_u-7h9U2W3ZX",
        "outputId": "53f7631c-71f4-4aa1-cab6-5309dbc7c794"
      },
      "execution_count": null,
      "outputs": [
        {
          "output_type": "execute_result",
          "data": {
            "text/plain": [
              "                                                Poem  \\\n",
              "0  A woman walks by the bench I’m sitting onwith ...   \n",
              "1  Because I am a boy, the untouchability of beau...   \n",
              "2  Because today we did not leave this world,We n...   \n",
              "3  Big Bend has been here, been here. Shouldn’t i...   \n",
              "4  I put shells there, along the lip of the road....   \n",
              "5  I thought I would write a novelabout the windo...   \n",
              "6  I was afraid the past would catch up with me,w...   \n",
              "7  Let us enter this again. In the context of thi...   \n",
              "8  More than the fuchsia funnels breaking outof t...   \n",
              "9  No strawberry moon for me, tonight. No strawbe...   \n",
              "\n",
              "                                        no_stopwords  \\\n",
              "0  [\"woman\", \"walks\", \"bench\", \"sitting\", \"onwith...   \n",
              "1  [\"boy\", \"untouchability\", \"beautyis\", \"subject...   \n",
              "2  [\"today\", \"leave\", \"world\", \"embody\", \"promine...   \n",
              "3  [\"big\", \"bend\", \"say\", \"call\", \"mountains\", \"w...   \n",
              "4  [\"put\", \"shells\", \"along\", \"lip\", \"last\", \"sum...   \n",
              "5  [\"thought\", \"would\", \"write\", \"novelabout\", \"w...   \n",
              "6  [\"afraid\", \"past\", \"would\", \"catch\", \"would\", ...   \n",
              "7  [\"let\", \"us\", \"enter\", \"context\", \"paragraph\",...   \n",
              "8  [\"fuchsia\", \"funnels\", \"breaking\", \"outof\", \"c...   \n",
              "9  [\"strawberry\", \"moon\", \"tonight\", \"strawberry\"...   \n",
              "\n",
              "                                             stemmed  \\\n",
              "0  [\"woman\", \"walk\", \"bench\", \"sit\", \"onwith\", \"d...   \n",
              "1  [\"boy\", \"untouch\", \"beautyi\", \"subject\", \"alre...   \n",
              "2  [\"today\", \"leav\", \"world\", \"embodi\", \"promin\",...   \n",
              "3  [\"big\", \"bend\", \"say\", \"call\", \"mountain\", \"wa...   \n",
              "4  [\"put\", \"shell\", \"along\", \"lip\", \"last\", \"summ...   \n",
              "5  [\"thought\", \"would\", \"write\", \"novelabout\", \"w...   \n",
              "6  [\"afraid\", \"past\", \"would\", \"catch\", \"would\", ...   \n",
              "7  [\"let\", \"us\", \"enter\", \"context\", \"paragraph\",...   \n",
              "8  [\"fuchsia\", \"funnel\", \"break\", \"outof\", \"craba...   \n",
              "9  [\"strawberri\", \"moon\", \"tonight\", \"strawberri\"...   \n",
              "\n",
              "                                          lemmatized  \n",
              "0  [\"woman\", \"walk\", \"bench\", \"sitting\", \"onwith\"...  \n",
              "1  [\"boy\", \"untouchability\", \"beautyis\", \"subject...  \n",
              "2  [\"today\", \"leave\", \"world\", \"embody\", \"promine...  \n",
              "3  [\"big\", \"bend\", \"say\", \"call\", \"mountain\", \"wa...  \n",
              "4  [\"put\", \"shell\", \"along\", \"lip\", \"last\", \"summ...  \n",
              "5  [\"thought\", \"would\", \"write\", \"novelabout\", \"w...  \n",
              "6  [\"afraid\", \"past\", \"would\", \"catch\", \"would\", ...  \n",
              "7  [\"let\", \"u\", \"enter\", \"context\", \"paragraph\", ...  \n",
              "8  [\"fuchsia\", \"funnel\", \"breaking\", \"outof\", \"cr...  \n",
              "9  [\"strawberry\", \"moon\", \"tonight\", \"strawberry\"...  "
            ],
            "text/html": [
              "\n",
              "  <div id=\"df-90fd1d6b-632d-45f2-a512-a8a9840d4db1\" class=\"colab-df-container\">\n",
              "    <div>\n",
              "<style scoped>\n",
              "    .dataframe tbody tr th:only-of-type {\n",
              "        vertical-align: middle;\n",
              "    }\n",
              "\n",
              "    .dataframe tbody tr th {\n",
              "        vertical-align: top;\n",
              "    }\n",
              "\n",
              "    .dataframe thead th {\n",
              "        text-align: right;\n",
              "    }\n",
              "</style>\n",
              "<table border=\"1\" class=\"dataframe\">\n",
              "  <thead>\n",
              "    <tr style=\"text-align: right;\">\n",
              "      <th></th>\n",
              "      <th>Poem</th>\n",
              "      <th>no_stopwords</th>\n",
              "      <th>stemmed</th>\n",
              "      <th>lemmatized</th>\n",
              "    </tr>\n",
              "  </thead>\n",
              "  <tbody>\n",
              "    <tr>\n",
              "      <th>0</th>\n",
              "      <td>A woman walks by the bench I’m sitting onwith ...</td>\n",
              "      <td>[\"woman\", \"walks\", \"bench\", \"sitting\", \"onwith...</td>\n",
              "      <td>[\"woman\", \"walk\", \"bench\", \"sit\", \"onwith\", \"d...</td>\n",
              "      <td>[\"woman\", \"walk\", \"bench\", \"sitting\", \"onwith\"...</td>\n",
              "    </tr>\n",
              "    <tr>\n",
              "      <th>1</th>\n",
              "      <td>Because I am a boy, the untouchability of beau...</td>\n",
              "      <td>[\"boy\", \"untouchability\", \"beautyis\", \"subject...</td>\n",
              "      <td>[\"boy\", \"untouch\", \"beautyi\", \"subject\", \"alre...</td>\n",
              "      <td>[\"boy\", \"untouchability\", \"beautyis\", \"subject...</td>\n",
              "    </tr>\n",
              "    <tr>\n",
              "      <th>2</th>\n",
              "      <td>Because today we did not leave this world,We n...</td>\n",
              "      <td>[\"today\", \"leave\", \"world\", \"embody\", \"promine...</td>\n",
              "      <td>[\"today\", \"leav\", \"world\", \"embodi\", \"promin\",...</td>\n",
              "      <td>[\"today\", \"leave\", \"world\", \"embody\", \"promine...</td>\n",
              "    </tr>\n",
              "    <tr>\n",
              "      <th>3</th>\n",
              "      <td>Big Bend has been here, been here. Shouldn’t i...</td>\n",
              "      <td>[\"big\", \"bend\", \"say\", \"call\", \"mountains\", \"w...</td>\n",
              "      <td>[\"big\", \"bend\", \"say\", \"call\", \"mountain\", \"wa...</td>\n",
              "      <td>[\"big\", \"bend\", \"say\", \"call\", \"mountain\", \"wa...</td>\n",
              "    </tr>\n",
              "    <tr>\n",
              "      <th>4</th>\n",
              "      <td>I put shells there, along the lip of the road....</td>\n",
              "      <td>[\"put\", \"shells\", \"along\", \"lip\", \"last\", \"sum...</td>\n",
              "      <td>[\"put\", \"shell\", \"along\", \"lip\", \"last\", \"summ...</td>\n",
              "      <td>[\"put\", \"shell\", \"along\", \"lip\", \"last\", \"summ...</td>\n",
              "    </tr>\n",
              "    <tr>\n",
              "      <th>5</th>\n",
              "      <td>I thought I would write a novelabout the windo...</td>\n",
              "      <td>[\"thought\", \"would\", \"write\", \"novelabout\", \"w...</td>\n",
              "      <td>[\"thought\", \"would\", \"write\", \"novelabout\", \"w...</td>\n",
              "      <td>[\"thought\", \"would\", \"write\", \"novelabout\", \"w...</td>\n",
              "    </tr>\n",
              "    <tr>\n",
              "      <th>6</th>\n",
              "      <td>I was afraid the past would catch up with me,w...</td>\n",
              "      <td>[\"afraid\", \"past\", \"would\", \"catch\", \"would\", ...</td>\n",
              "      <td>[\"afraid\", \"past\", \"would\", \"catch\", \"would\", ...</td>\n",
              "      <td>[\"afraid\", \"past\", \"would\", \"catch\", \"would\", ...</td>\n",
              "    </tr>\n",
              "    <tr>\n",
              "      <th>7</th>\n",
              "      <td>Let us enter this again. In the context of thi...</td>\n",
              "      <td>[\"let\", \"us\", \"enter\", \"context\", \"paragraph\",...</td>\n",
              "      <td>[\"let\", \"us\", \"enter\", \"context\", \"paragraph\",...</td>\n",
              "      <td>[\"let\", \"u\", \"enter\", \"context\", \"paragraph\", ...</td>\n",
              "    </tr>\n",
              "    <tr>\n",
              "      <th>8</th>\n",
              "      <td>More than the fuchsia funnels breaking outof t...</td>\n",
              "      <td>[\"fuchsia\", \"funnels\", \"breaking\", \"outof\", \"c...</td>\n",
              "      <td>[\"fuchsia\", \"funnel\", \"break\", \"outof\", \"craba...</td>\n",
              "      <td>[\"fuchsia\", \"funnel\", \"breaking\", \"outof\", \"cr...</td>\n",
              "    </tr>\n",
              "    <tr>\n",
              "      <th>9</th>\n",
              "      <td>No strawberry moon for me, tonight. No strawbe...</td>\n",
              "      <td>[\"strawberry\", \"moon\", \"tonight\", \"strawberry\"...</td>\n",
              "      <td>[\"strawberri\", \"moon\", \"tonight\", \"strawberri\"...</td>\n",
              "      <td>[\"strawberry\", \"moon\", \"tonight\", \"strawberry\"...</td>\n",
              "    </tr>\n",
              "  </tbody>\n",
              "</table>\n",
              "</div>\n",
              "    <div class=\"colab-df-buttons\">\n",
              "\n",
              "  <div class=\"colab-df-container\">\n",
              "    <button class=\"colab-df-convert\" onclick=\"convertToInteractive('df-90fd1d6b-632d-45f2-a512-a8a9840d4db1')\"\n",
              "            title=\"Convert this dataframe to an interactive table.\"\n",
              "            style=\"display:none;\">\n",
              "\n",
              "  <svg xmlns=\"http://www.w3.org/2000/svg\" height=\"24px\" viewBox=\"0 -960 960 960\">\n",
              "    <path d=\"M120-120v-720h720v720H120Zm60-500h600v-160H180v160Zm220 220h160v-160H400v160Zm0 220h160v-160H400v160ZM180-400h160v-160H180v160Zm440 0h160v-160H620v160ZM180-180h160v-160H180v160Zm440 0h160v-160H620v160Z\"/>\n",
              "  </svg>\n",
              "    </button>\n",
              "\n",
              "  <style>\n",
              "    .colab-df-container {\n",
              "      display:flex;\n",
              "      gap: 12px;\n",
              "    }\n",
              "\n",
              "    .colab-df-convert {\n",
              "      background-color: #E8F0FE;\n",
              "      border: none;\n",
              "      border-radius: 50%;\n",
              "      cursor: pointer;\n",
              "      display: none;\n",
              "      fill: #1967D2;\n",
              "      height: 32px;\n",
              "      padding: 0 0 0 0;\n",
              "      width: 32px;\n",
              "    }\n",
              "\n",
              "    .colab-df-convert:hover {\n",
              "      background-color: #E2EBFA;\n",
              "      box-shadow: 0px 1px 2px rgba(60, 64, 67, 0.3), 0px 1px 3px 1px rgba(60, 64, 67, 0.15);\n",
              "      fill: #174EA6;\n",
              "    }\n",
              "\n",
              "    .colab-df-buttons div {\n",
              "      margin-bottom: 4px;\n",
              "    }\n",
              "\n",
              "    [theme=dark] .colab-df-convert {\n",
              "      background-color: #3B4455;\n",
              "      fill: #D2E3FC;\n",
              "    }\n",
              "\n",
              "    [theme=dark] .colab-df-convert:hover {\n",
              "      background-color: #434B5C;\n",
              "      box-shadow: 0px 1px 3px 1px rgba(0, 0, 0, 0.15);\n",
              "      filter: drop-shadow(0px 1px 2px rgba(0, 0, 0, 0.3));\n",
              "      fill: #FFFFFF;\n",
              "    }\n",
              "  </style>\n",
              "\n",
              "    <script>\n",
              "      const buttonEl =\n",
              "        document.querySelector('#df-90fd1d6b-632d-45f2-a512-a8a9840d4db1 button.colab-df-convert');\n",
              "      buttonEl.style.display =\n",
              "        google.colab.kernel.accessAllowed ? 'block' : 'none';\n",
              "\n",
              "      async function convertToInteractive(key) {\n",
              "        const element = document.querySelector('#df-90fd1d6b-632d-45f2-a512-a8a9840d4db1');\n",
              "        const dataTable =\n",
              "          await google.colab.kernel.invokeFunction('convertToInteractive',\n",
              "                                                    [key], {});\n",
              "        if (!dataTable) return;\n",
              "\n",
              "        const docLinkHtml = 'Like what you see? Visit the ' +\n",
              "          '<a target=\"_blank\" href=https://colab.research.google.com/notebooks/data_table.ipynb>data table notebook</a>'\n",
              "          + ' to learn more about interactive tables.';\n",
              "        element.innerHTML = '';\n",
              "        dataTable['output_type'] = 'display_data';\n",
              "        await google.colab.output.renderOutput(dataTable, element);\n",
              "        const docLink = document.createElement('div');\n",
              "        docLink.innerHTML = docLinkHtml;\n",
              "        element.appendChild(docLink);\n",
              "      }\n",
              "    </script>\n",
              "  </div>\n",
              "\n",
              "\n",
              "    <div id=\"df-c242233d-1d27-4d83-a569-390162c0eafd\">\n",
              "      <button class=\"colab-df-quickchart\" onclick=\"quickchart('df-c242233d-1d27-4d83-a569-390162c0eafd')\"\n",
              "                title=\"Suggest charts\"\n",
              "                style=\"display:none;\">\n",
              "\n",
              "<svg xmlns=\"http://www.w3.org/2000/svg\" height=\"24px\"viewBox=\"0 0 24 24\"\n",
              "     width=\"24px\">\n",
              "    <g>\n",
              "        <path d=\"M19 3H5c-1.1 0-2 .9-2 2v14c0 1.1.9 2 2 2h14c1.1 0 2-.9 2-2V5c0-1.1-.9-2-2-2zM9 17H7v-7h2v7zm4 0h-2V7h2v10zm4 0h-2v-4h2v4z\"/>\n",
              "    </g>\n",
              "</svg>\n",
              "      </button>\n",
              "\n",
              "<style>\n",
              "  .colab-df-quickchart {\n",
              "      --bg-color: #E8F0FE;\n",
              "      --fill-color: #1967D2;\n",
              "      --hover-bg-color: #E2EBFA;\n",
              "      --hover-fill-color: #174EA6;\n",
              "      --disabled-fill-color: #AAA;\n",
              "      --disabled-bg-color: #DDD;\n",
              "  }\n",
              "\n",
              "  [theme=dark] .colab-df-quickchart {\n",
              "      --bg-color: #3B4455;\n",
              "      --fill-color: #D2E3FC;\n",
              "      --hover-bg-color: #434B5C;\n",
              "      --hover-fill-color: #FFFFFF;\n",
              "      --disabled-bg-color: #3B4455;\n",
              "      --disabled-fill-color: #666;\n",
              "  }\n",
              "\n",
              "  .colab-df-quickchart {\n",
              "    background-color: var(--bg-color);\n",
              "    border: none;\n",
              "    border-radius: 50%;\n",
              "    cursor: pointer;\n",
              "    display: none;\n",
              "    fill: var(--fill-color);\n",
              "    height: 32px;\n",
              "    padding: 0;\n",
              "    width: 32px;\n",
              "  }\n",
              "\n",
              "  .colab-df-quickchart:hover {\n",
              "    background-color: var(--hover-bg-color);\n",
              "    box-shadow: 0 1px 2px rgba(60, 64, 67, 0.3), 0 1px 3px 1px rgba(60, 64, 67, 0.15);\n",
              "    fill: var(--button-hover-fill-color);\n",
              "  }\n",
              "\n",
              "  .colab-df-quickchart-complete:disabled,\n",
              "  .colab-df-quickchart-complete:disabled:hover {\n",
              "    background-color: var(--disabled-bg-color);\n",
              "    fill: var(--disabled-fill-color);\n",
              "    box-shadow: none;\n",
              "  }\n",
              "\n",
              "  .colab-df-spinner {\n",
              "    border: 2px solid var(--fill-color);\n",
              "    border-color: transparent;\n",
              "    border-bottom-color: var(--fill-color);\n",
              "    animation:\n",
              "      spin 1s steps(1) infinite;\n",
              "  }\n",
              "\n",
              "  @keyframes spin {\n",
              "    0% {\n",
              "      border-color: transparent;\n",
              "      border-bottom-color: var(--fill-color);\n",
              "      border-left-color: var(--fill-color);\n",
              "    }\n",
              "    20% {\n",
              "      border-color: transparent;\n",
              "      border-left-color: var(--fill-color);\n",
              "      border-top-color: var(--fill-color);\n",
              "    }\n",
              "    30% {\n",
              "      border-color: transparent;\n",
              "      border-left-color: var(--fill-color);\n",
              "      border-top-color: var(--fill-color);\n",
              "      border-right-color: var(--fill-color);\n",
              "    }\n",
              "    40% {\n",
              "      border-color: transparent;\n",
              "      border-right-color: var(--fill-color);\n",
              "      border-top-color: var(--fill-color);\n",
              "    }\n",
              "    60% {\n",
              "      border-color: transparent;\n",
              "      border-right-color: var(--fill-color);\n",
              "    }\n",
              "    80% {\n",
              "      border-color: transparent;\n",
              "      border-right-color: var(--fill-color);\n",
              "      border-bottom-color: var(--fill-color);\n",
              "    }\n",
              "    90% {\n",
              "      border-color: transparent;\n",
              "      border-bottom-color: var(--fill-color);\n",
              "    }\n",
              "  }\n",
              "</style>\n",
              "\n",
              "      <script>\n",
              "        async function quickchart(key) {\n",
              "          const quickchartButtonEl =\n",
              "            document.querySelector('#' + key + ' button');\n",
              "          quickchartButtonEl.disabled = true;  // To prevent multiple clicks.\n",
              "          quickchartButtonEl.classList.add('colab-df-spinner');\n",
              "          try {\n",
              "            const charts = await google.colab.kernel.invokeFunction(\n",
              "                'suggestCharts', [key], {});\n",
              "          } catch (error) {\n",
              "            console.error('Error during call to suggestCharts:', error);\n",
              "          }\n",
              "          quickchartButtonEl.classList.remove('colab-df-spinner');\n",
              "          quickchartButtonEl.classList.add('colab-df-quickchart-complete');\n",
              "        }\n",
              "        (() => {\n",
              "          let quickchartButtonEl =\n",
              "            document.querySelector('#df-c242233d-1d27-4d83-a569-390162c0eafd button');\n",
              "          quickchartButtonEl.style.display =\n",
              "            google.colab.kernel.accessAllowed ? 'block' : 'none';\n",
              "        })();\n",
              "      </script>\n",
              "    </div>\n",
              "\n",
              "    </div>\n",
              "  </div>\n"
            ],
            "application/vnd.google.colaboratory.intrinsic+json": {
              "type": "dataframe",
              "summary": "{\n  \"name\": \"df[[\\\"Poem\\\", \\\"no_stopwords\\\", \\\"stemmed\\\", \\\"lemmatized\\\"]]\",\n  \"rows\": 10,\n  \"fields\": [\n    {\n      \"column\": \"Poem\",\n      \"properties\": {\n        \"dtype\": \"string\",\n        \"num_unique_values\": 10,\n        \"samples\": [\n          \"More than the fuchsia funnels breaking outof the crabapple tree, more than the neighbor\\u2019salmost obscene display of cherry limbs shovingtheir cotton candy-colored blossoms to the slatesky of Spring rains, it\\u2019s the greening of the treesthat really gets to me. When all the shock of whiteand taffy, the world\\u2019s baubles and\",\n          \"Because I am a boy, the untouchability of beautyis my subject already, the book of statuesopen in my lap, the middle of October, leavesfoiling the wet groundin soft copper. \\u201cA statuemust be beautifulfrom all sides,\\u201d Cellini wrote in 1558.When I close the book,the bodies touch. In the west,they are tying\",\n          \"I thought I would write a novelabout the window with its shadowset in the two-story house.C\\u00e9zanne stands at the sunchoke hedge,alone and licking a brushamong the tree\\u2019s traces of changing shade.The woman\\u2014I named herand almost saw her\\u2014could beflapping a pillowcase at the shutteras though fanning a firethat takes the frame\"\n        ],\n        \"semantic_type\": \"\",\n        \"description\": \"\"\n      }\n    },\n    {\n      \"column\": \"no_stopwords\",\n      \"properties\": {\n        \"dtype\": \"string\",\n        \"num_unique_values\": 10,\n        \"samples\": [\n          \"[\\\"fuchsia\\\", \\\"funnels\\\", \\\"breaking\\\", \\\"outof\\\", \\\"crabapple\\\", \\\"tree\\\", \\\"neighbor\\\", \\\"salmost\\\", \\\"obscene\\\", \\\"display\\\", \\\"cherry\\\", \\\"limbs\\\", \\\"shovingtheir\\\", \\\"cotton\\\", \\\"blossoms\\\", \\\"slatesky\\\", \\\"spring\\\", \\\"rains\\\", \\\"greening\\\", \\\"treesthat\\\", \\\"really\\\", \\\"gets\\\", \\\"shock\\\", \\\"whiteand\\\", \\\"taffy\\\", \\\"world\\\", \\\"baubles\\\"]\",\n          \"[\\\"boy\\\", \\\"untouchability\\\", \\\"beautyis\\\", \\\"subject\\\", \\\"already\\\", \\\"book\\\", \\\"statuesopen\\\", \\\"lap\\\", \\\"middle\\\", \\\"october\\\", \\\"leavesfoiling\\\", \\\"wet\\\", \\\"groundin\\\", \\\"soft\\\", \\\"copper\\\", \\\"statuemust\\\", \\\"beautifulfrom\\\", \\\"sides\\\", \\\"cellini\\\", \\\"wrote\\\", \\\"close\\\", \\\"book\\\", \\\"bodies\\\", \\\"touch\\\", \\\"west\\\", \\\"tying\\\"]\",\n          \"[\\\"thought\\\", \\\"would\\\", \\\"write\\\", \\\"novelabout\\\", \\\"window\\\", \\\"shadowset\\\", \\\"stands\\\", \\\"sunchoke\\\", \\\"hedge\\\", \\\"alone\\\", \\\"licking\\\", \\\"brushamong\\\", \\\"tree\\\", \\\"traces\\\", \\\"changing\\\", \\\"named\\\", \\\"herand\\\", \\\"almost\\\", \\\"saw\\\", \\\"beflapping\\\", \\\"pillowcase\\\", \\\"shutteras\\\", \\\"though\\\", \\\"fanning\\\", \\\"firethat\\\", \\\"takes\\\", \\\"frame\\\"]\"\n        ],\n        \"semantic_type\": \"\",\n        \"description\": \"\"\n      }\n    },\n    {\n      \"column\": \"stemmed\",\n      \"properties\": {\n        \"dtype\": \"string\",\n        \"num_unique_values\": 10,\n        \"samples\": [\n          \"[\\\"fuchsia\\\", \\\"funnel\\\", \\\"break\\\", \\\"outof\\\", \\\"crabappl\\\", \\\"tree\\\", \\\"neighbor\\\", \\\"salmost\\\", \\\"obscen\\\", \\\"display\\\", \\\"cherri\\\", \\\"limb\\\", \\\"shovingtheir\\\", \\\"cotton\\\", \\\"blossom\\\", \\\"slateski\\\", \\\"spring\\\", \\\"rain\\\", \\\"green\\\", \\\"treesthat\\\", \\\"realli\\\", \\\"get\\\", \\\"shock\\\", \\\"whiteand\\\", \\\"taffi\\\", \\\"world\\\", \\\"baubl\\\"]\",\n          \"[\\\"boy\\\", \\\"untouch\\\", \\\"beautyi\\\", \\\"subject\\\", \\\"alreadi\\\", \\\"book\\\", \\\"statuesopen\\\", \\\"lap\\\", \\\"middl\\\", \\\"octob\\\", \\\"leavesfoil\\\", \\\"wet\\\", \\\"groundin\\\", \\\"soft\\\", \\\"copper\\\", \\\"statuemust\\\", \\\"beautifulfrom\\\", \\\"side\\\", \\\"cellini\\\", \\\"wrote\\\", \\\"close\\\", \\\"book\\\", \\\"bodi\\\", \\\"touch\\\", \\\"west\\\", \\\"tie\\\"]\",\n          \"[\\\"thought\\\", \\\"would\\\", \\\"write\\\", \\\"novelabout\\\", \\\"window\\\", \\\"shadowset\\\", \\\"stand\\\", \\\"sunchok\\\", \\\"hedg\\\", \\\"alon\\\", \\\"lick\\\", \\\"brushamong\\\", \\\"tree\\\", \\\"trace\\\", \\\"chang\\\", \\\"name\\\", \\\"herand\\\", \\\"almost\\\", \\\"saw\\\", \\\"beflap\\\", \\\"pillowcas\\\", \\\"shuttera\\\", \\\"though\\\", \\\"fan\\\", \\\"firethat\\\", \\\"take\\\", \\\"frame\\\"]\"\n        ],\n        \"semantic_type\": \"\",\n        \"description\": \"\"\n      }\n    },\n    {\n      \"column\": \"lemmatized\",\n      \"properties\": {\n        \"dtype\": \"string\",\n        \"num_unique_values\": 10,\n        \"samples\": [\n          \"[\\\"fuchsia\\\", \\\"funnel\\\", \\\"breaking\\\", \\\"outof\\\", \\\"crabapple\\\", \\\"tree\\\", \\\"neighbor\\\", \\\"salmost\\\", \\\"obscene\\\", \\\"display\\\", \\\"cherry\\\", \\\"limb\\\", \\\"shovingtheir\\\", \\\"cotton\\\", \\\"blossom\\\", \\\"slatesky\\\", \\\"spring\\\", \\\"rain\\\", \\\"greening\\\", \\\"treesthat\\\", \\\"really\\\", \\\"get\\\", \\\"shock\\\", \\\"whiteand\\\", \\\"taffy\\\", \\\"world\\\", \\\"bauble\\\"]\",\n          \"[\\\"boy\\\", \\\"untouchability\\\", \\\"beautyis\\\", \\\"subject\\\", \\\"already\\\", \\\"book\\\", \\\"statuesopen\\\", \\\"lap\\\", \\\"middle\\\", \\\"october\\\", \\\"leavesfoiling\\\", \\\"wet\\\", \\\"groundin\\\", \\\"soft\\\", \\\"copper\\\", \\\"statuemust\\\", \\\"beautifulfrom\\\", \\\"side\\\", \\\"cellini\\\", \\\"wrote\\\", \\\"close\\\", \\\"book\\\", \\\"body\\\", \\\"touch\\\", \\\"west\\\", \\\"tying\\\"]\",\n          \"[\\\"thought\\\", \\\"would\\\", \\\"write\\\", \\\"novelabout\\\", \\\"window\\\", \\\"shadowset\\\", \\\"stand\\\", \\\"sunchoke\\\", \\\"hedge\\\", \\\"alone\\\", \\\"licking\\\", \\\"brushamong\\\", \\\"tree\\\", \\\"trace\\\", \\\"changing\\\", \\\"named\\\", \\\"herand\\\", \\\"almost\\\", \\\"saw\\\", \\\"beflapping\\\", \\\"pillowcase\\\", \\\"shutteras\\\", \\\"though\\\", \\\"fanning\\\", \\\"firethat\\\", \\\"take\\\", \\\"frame\\\"]\"\n        ],\n        \"semantic_type\": \"\",\n        \"description\": \"\"\n      }\n    }\n  ]\n}"
            }
          },
          "metadata": {},
          "execution_count": 15
        }
      ]
    },
    {
      "cell_type": "code",
      "source": [],
      "metadata": {
        "id": "nE67Z2n3W5KP"
      },
      "execution_count": null,
      "outputs": []
    }
  ]
}